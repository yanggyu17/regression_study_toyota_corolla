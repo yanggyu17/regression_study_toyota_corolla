{
 "cells": [
  {
   "cell_type": "code",
   "execution_count": 2,
   "metadata": {
    "collapsed": true
   },
   "outputs": [],
   "source": [
    "import numpy as np\n",
    "import pandas as pd\n",
    "import scipy as sp\n",
    "import matplotlib.pyplot as plt\n",
    "%matplotlib inline "
   ]
  },
  {
   "cell_type": "code",
   "execution_count": 3,
   "metadata": {
    "collapsed": true
   },
   "outputs": [],
   "source": [
    "train_df = pd.read_csv('../project1/dss-regression-datasets/project-toyotacorolla-data/train.csv')"
   ]
  },
  {
   "cell_type": "code",
   "execution_count": 4,
   "metadata": {
    "collapsed": true
   },
   "outputs": [
    {
     "data": {
      "text/html": [
       "<div>\n",
       "<style>\n",
       "    .dataframe thead tr:only-child th {\n",
       "        text-align: right;\n",
       "    }\n",
       "\n",
       "    .dataframe thead th {\n",
       "        text-align: left;\n",
       "    }\n",
       "\n",
       "    .dataframe tbody tr th {\n",
       "        vertical-align: top;\n",
       "    }\n",
       "</style>\n",
       "<table border=\"1\" class=\"dataframe\">\n",
       "  <thead>\n",
       "    <tr style=\"text-align: right;\">\n",
       "      <th></th>\n",
       "      <th>Id</th>\n",
       "      <th>Model</th>\n",
       "      <th>Price</th>\n",
       "      <th>Age_08_04</th>\n",
       "      <th>Mfg_Month</th>\n",
       "      <th>Mfg_Year</th>\n",
       "      <th>KM</th>\n",
       "      <th>Fuel_Type</th>\n",
       "      <th>HP</th>\n",
       "      <th>Met_Color</th>\n",
       "      <th>...</th>\n",
       "      <th>Powered_Windows</th>\n",
       "      <th>Power_Steering</th>\n",
       "      <th>Radio</th>\n",
       "      <th>Mistlamps</th>\n",
       "      <th>Sport_Model</th>\n",
       "      <th>Backseat_Divider</th>\n",
       "      <th>Metallic_Rim</th>\n",
       "      <th>Radio_cassette</th>\n",
       "      <th>Parking_Assistant</th>\n",
       "      <th>Tow_Bar</th>\n",
       "    </tr>\n",
       "  </thead>\n",
       "  <tbody>\n",
       "    <tr>\n",
       "      <th>1014</th>\n",
       "      <td>1434</td>\n",
       "      <td>TOYOTA Corolla 1.3 16V HATCHB LINEA TERRA AUT3...</td>\n",
       "      <td>8950</td>\n",
       "      <td>71</td>\n",
       "      <td>10</td>\n",
       "      <td>1998</td>\n",
       "      <td>29000</td>\n",
       "      <td>Petrol</td>\n",
       "      <td>86</td>\n",
       "      <td>1</td>\n",
       "      <td>...</td>\n",
       "      <td>0</td>\n",
       "      <td>1</td>\n",
       "      <td>0</td>\n",
       "      <td>0</td>\n",
       "      <td>0</td>\n",
       "      <td>1</td>\n",
       "      <td>0</td>\n",
       "      <td>0</td>\n",
       "      <td>0</td>\n",
       "      <td>0</td>\n",
       "    </tr>\n",
       "    <tr>\n",
       "      <th>1015</th>\n",
       "      <td>1438</td>\n",
       "      <td>TOYOTA Corolla 1.3 16V HATCHB G6 2/3-Doors</td>\n",
       "      <td>7500</td>\n",
       "      <td>69</td>\n",
       "      <td>12</td>\n",
       "      <td>1998</td>\n",
       "      <td>20544</td>\n",
       "      <td>Petrol</td>\n",
       "      <td>86</td>\n",
       "      <td>1</td>\n",
       "      <td>...</td>\n",
       "      <td>1</td>\n",
       "      <td>1</td>\n",
       "      <td>0</td>\n",
       "      <td>1</td>\n",
       "      <td>1</td>\n",
       "      <td>1</td>\n",
       "      <td>0</td>\n",
       "      <td>0</td>\n",
       "      <td>0</td>\n",
       "      <td>0</td>\n",
       "    </tr>\n",
       "    <tr>\n",
       "      <th>1016</th>\n",
       "      <td>1440</td>\n",
       "      <td>TOYOTA Corolla 1.3 16V HATCHB LINEA TERRA 2/3-...</td>\n",
       "      <td>8500</td>\n",
       "      <td>71</td>\n",
       "      <td>10</td>\n",
       "      <td>1998</td>\n",
       "      <td>17016</td>\n",
       "      <td>Petrol</td>\n",
       "      <td>86</td>\n",
       "      <td>0</td>\n",
       "      <td>...</td>\n",
       "      <td>0</td>\n",
       "      <td>1</td>\n",
       "      <td>0</td>\n",
       "      <td>0</td>\n",
       "      <td>0</td>\n",
       "      <td>1</td>\n",
       "      <td>0</td>\n",
       "      <td>0</td>\n",
       "      <td>0</td>\n",
       "      <td>0</td>\n",
       "    </tr>\n",
       "    <tr>\n",
       "      <th>1017</th>\n",
       "      <td>1441</td>\n",
       "      <td>TOYOTA Corolla 1.3 16V HATCHB LINEA TERRA 2/3-...</td>\n",
       "      <td>7250</td>\n",
       "      <td>70</td>\n",
       "      <td>11</td>\n",
       "      <td>1998</td>\n",
       "      <td>16916</td>\n",
       "      <td>Petrol</td>\n",
       "      <td>86</td>\n",
       "      <td>1</td>\n",
       "      <td>...</td>\n",
       "      <td>0</td>\n",
       "      <td>0</td>\n",
       "      <td>0</td>\n",
       "      <td>0</td>\n",
       "      <td>0</td>\n",
       "      <td>1</td>\n",
       "      <td>0</td>\n",
       "      <td>0</td>\n",
       "      <td>0</td>\n",
       "      <td>0</td>\n",
       "    </tr>\n",
       "    <tr>\n",
       "      <th>1018</th>\n",
       "      <td>1442</td>\n",
       "      <td>TOYOTA Corolla 1.6 LB LINEA TERRA 4/5-Doors</td>\n",
       "      <td>6950</td>\n",
       "      <td>76</td>\n",
       "      <td>5</td>\n",
       "      <td>1998</td>\n",
       "      <td>1</td>\n",
       "      <td>Petrol</td>\n",
       "      <td>110</td>\n",
       "      <td>0</td>\n",
       "      <td>...</td>\n",
       "      <td>0</td>\n",
       "      <td>1</td>\n",
       "      <td>0</td>\n",
       "      <td>0</td>\n",
       "      <td>0</td>\n",
       "      <td>0</td>\n",
       "      <td>0</td>\n",
       "      <td>0</td>\n",
       "      <td>0</td>\n",
       "      <td>0</td>\n",
       "    </tr>\n",
       "  </tbody>\n",
       "</table>\n",
       "<p>5 rows × 39 columns</p>\n",
       "</div>"
      ],
      "text/plain": [
       "        Id                                              Model  Price  \\\n",
       "1014  1434  TOYOTA Corolla 1.3 16V HATCHB LINEA TERRA AUT3...   8950   \n",
       "1015  1438         TOYOTA Corolla 1.3 16V HATCHB G6 2/3-Doors   7500   \n",
       "1016  1440  TOYOTA Corolla 1.3 16V HATCHB LINEA TERRA 2/3-...   8500   \n",
       "1017  1441  TOYOTA Corolla 1.3 16V HATCHB LINEA TERRA 2/3-...   7250   \n",
       "1018  1442        TOYOTA Corolla 1.6 LB LINEA TERRA 4/5-Doors   6950   \n",
       "\n",
       "      Age_08_04  Mfg_Month  Mfg_Year     KM Fuel_Type   HP  Met_Color  \\\n",
       "1014         71         10      1998  29000    Petrol   86          1   \n",
       "1015         69         12      1998  20544    Petrol   86          1   \n",
       "1016         71         10      1998  17016    Petrol   86          0   \n",
       "1017         70         11      1998  16916    Petrol   86          1   \n",
       "1018         76          5      1998      1    Petrol  110          0   \n",
       "\n",
       "       ...    Powered_Windows  Power_Steering  Radio  Mistlamps  Sport_Model  \\\n",
       "1014   ...                  0               1      0          0            0   \n",
       "1015   ...                  1               1      0          1            1   \n",
       "1016   ...                  0               1      0          0            0   \n",
       "1017   ...                  0               0      0          0            0   \n",
       "1018   ...                  0               1      0          0            0   \n",
       "\n",
       "      Backseat_Divider  Metallic_Rim  Radio_cassette  Parking_Assistant  \\\n",
       "1014                 1             0               0                  0   \n",
       "1015                 1             0               0                  0   \n",
       "1016                 1             0               0                  0   \n",
       "1017                 1             0               0                  0   \n",
       "1018                 0             0               0                  0   \n",
       "\n",
       "      Tow_Bar  \n",
       "1014        0  \n",
       "1015        0  \n",
       "1016        0  \n",
       "1017        0  \n",
       "1018        0  \n",
       "\n",
       "[5 rows x 39 columns]"
      ]
     },
     "execution_count": 4,
     "metadata": {},
     "output_type": "execute_result"
    }
   ],
   "source": [
    "#데이터 확인\n",
    "train_df.tail()"
   ]
  },
  {
   "cell_type": "code",
   "execution_count": 5,
   "metadata": {
    "collapsed": true
   },
   "outputs": [
    {
     "data": {
      "text/html": [
       "<div>\n",
       "<style>\n",
       "    .dataframe thead tr:only-child th {\n",
       "        text-align: right;\n",
       "    }\n",
       "\n",
       "    .dataframe thead th {\n",
       "        text-align: left;\n",
       "    }\n",
       "\n",
       "    .dataframe tbody tr th {\n",
       "        vertical-align: top;\n",
       "    }\n",
       "</style>\n",
       "<table border=\"1\" class=\"dataframe\">\n",
       "  <thead>\n",
       "    <tr style=\"text-align: right;\">\n",
       "      <th></th>\n",
       "      <th>Price</th>\n",
       "      <th>Age_08_04</th>\n",
       "      <th>KM</th>\n",
       "      <th>CC</th>\n",
       "      <th>HP</th>\n",
       "      <th>Weight</th>\n",
       "    </tr>\n",
       "  </thead>\n",
       "  <tbody>\n",
       "    <tr>\n",
       "      <th>count</th>\n",
       "      <td>1019.000000</td>\n",
       "      <td>1019.000000</td>\n",
       "      <td>1019.000000</td>\n",
       "      <td>1019.000000</td>\n",
       "      <td>1019.000000</td>\n",
       "      <td>1019.000000</td>\n",
       "    </tr>\n",
       "    <tr>\n",
       "      <th>mean</th>\n",
       "      <td>10738.358194</td>\n",
       "      <td>56.041217</td>\n",
       "      <td>68177.927380</td>\n",
       "      <td>1579.582924</td>\n",
       "      <td>101.479882</td>\n",
       "      <td>1072.262022</td>\n",
       "    </tr>\n",
       "    <tr>\n",
       "      <th>std</th>\n",
       "      <td>3614.987568</td>\n",
       "      <td>18.615283</td>\n",
       "      <td>37966.031948</td>\n",
       "      <td>488.566949</td>\n",
       "      <td>14.811333</td>\n",
       "      <td>51.356826</td>\n",
       "    </tr>\n",
       "    <tr>\n",
       "      <th>min</th>\n",
       "      <td>4350.000000</td>\n",
       "      <td>1.000000</td>\n",
       "      <td>1.000000</td>\n",
       "      <td>1300.000000</td>\n",
       "      <td>69.000000</td>\n",
       "      <td>1000.000000</td>\n",
       "    </tr>\n",
       "    <tr>\n",
       "      <th>25%</th>\n",
       "      <td>8400.000000</td>\n",
       "      <td>44.000000</td>\n",
       "      <td>41567.500000</td>\n",
       "      <td>1400.000000</td>\n",
       "      <td>86.000000</td>\n",
       "      <td>1040.000000</td>\n",
       "    </tr>\n",
       "    <tr>\n",
       "      <th>50%</th>\n",
       "      <td>9850.000000</td>\n",
       "      <td>61.000000</td>\n",
       "      <td>62280.000000</td>\n",
       "      <td>1600.000000</td>\n",
       "      <td>110.000000</td>\n",
       "      <td>1070.000000</td>\n",
       "    </tr>\n",
       "    <tr>\n",
       "      <th>75%</th>\n",
       "      <td>11950.000000</td>\n",
       "      <td>70.000000</td>\n",
       "      <td>86467.500000</td>\n",
       "      <td>1600.000000</td>\n",
       "      <td>110.000000</td>\n",
       "      <td>1085.000000</td>\n",
       "    </tr>\n",
       "    <tr>\n",
       "      <th>max</th>\n",
       "      <td>31000.000000</td>\n",
       "      <td>80.000000</td>\n",
       "      <td>243000.000000</td>\n",
       "      <td>16000.000000</td>\n",
       "      <td>192.000000</td>\n",
       "      <td>1615.000000</td>\n",
       "    </tr>\n",
       "  </tbody>\n",
       "</table>\n",
       "</div>"
      ],
      "text/plain": [
       "              Price    Age_08_04             KM            CC           HP  \\\n",
       "count   1019.000000  1019.000000    1019.000000   1019.000000  1019.000000   \n",
       "mean   10738.358194    56.041217   68177.927380   1579.582924   101.479882   \n",
       "std     3614.987568    18.615283   37966.031948    488.566949    14.811333   \n",
       "min     4350.000000     1.000000       1.000000   1300.000000    69.000000   \n",
       "25%     8400.000000    44.000000   41567.500000   1400.000000    86.000000   \n",
       "50%     9850.000000    61.000000   62280.000000   1600.000000   110.000000   \n",
       "75%    11950.000000    70.000000   86467.500000   1600.000000   110.000000   \n",
       "max    31000.000000    80.000000  243000.000000  16000.000000   192.000000   \n",
       "\n",
       "            Weight  \n",
       "count  1019.000000  \n",
       "mean   1072.262022  \n",
       "std      51.356826  \n",
       "min    1000.000000  \n",
       "25%    1040.000000  \n",
       "50%    1070.000000  \n",
       "75%    1085.000000  \n",
       "max    1615.000000  "
      ]
     },
     "execution_count": 5,
     "metadata": {},
     "output_type": "execute_result"
    }
   ],
   "source": [
    "#train_df.describe()\n",
    "pd.DataFrame.describe(train_df[['Price','Age_08_04','KM','CC','HP','Weight']])"
   ]
  },
  {
   "cell_type": "code",
   "execution_count": 6,
   "metadata": {
    "collapsed": true
   },
   "outputs": [
    {
     "name": "stdout",
     "output_type": "stream",
     "text": [
      "<class 'pandas.core.frame.DataFrame'>\n",
      "RangeIndex: 1019 entries, 0 to 1018\n",
      "Data columns (total 39 columns):\n",
      "Id                   1019 non-null int64\n",
      "Model                1019 non-null object\n",
      "Price                1019 non-null int64\n",
      "Age_08_04            1019 non-null int64\n",
      "Mfg_Month            1019 non-null int64\n",
      "Mfg_Year             1019 non-null int64\n",
      "KM                   1019 non-null int64\n",
      "Fuel_Type            1019 non-null object\n",
      "HP                   1019 non-null int64\n",
      "Met_Color            1019 non-null int64\n",
      "Color                1019 non-null object\n",
      "Automatic            1019 non-null int64\n",
      "CC                   1019 non-null int64\n",
      "Doors                1019 non-null int64\n",
      "Cylinders            1019 non-null int64\n",
      "Gears                1019 non-null int64\n",
      "Quarterly_Tax        1019 non-null int64\n",
      "Weight               1019 non-null int64\n",
      "Mfr_Guarantee        1019 non-null int64\n",
      "BOVAG_Guarantee      1019 non-null int64\n",
      "Guarantee_Period     1019 non-null int64\n",
      "ABS                  1019 non-null int64\n",
      "Airbag_1             1019 non-null int64\n",
      "Airbag_2             1019 non-null int64\n",
      "Airco                1019 non-null int64\n",
      "Automatic_airco      1019 non-null int64\n",
      "Boardcomputer        1019 non-null int64\n",
      "CD_Player            1019 non-null int64\n",
      "Central_Lock         1019 non-null int64\n",
      "Powered_Windows      1019 non-null int64\n",
      "Power_Steering       1019 non-null int64\n",
      "Radio                1019 non-null int64\n",
      "Mistlamps            1019 non-null int64\n",
      "Sport_Model          1019 non-null int64\n",
      "Backseat_Divider     1019 non-null int64\n",
      "Metallic_Rim         1019 non-null int64\n",
      "Radio_cassette       1019 non-null int64\n",
      "Parking_Assistant    1019 non-null int64\n",
      "Tow_Bar              1019 non-null int64\n",
      "dtypes: int64(36), object(3)\n",
      "memory usage: 310.6+ KB\n"
     ]
    }
   ],
   "source": [
    "train_df.info()"
   ]
  },
  {
   "cell_type": "code",
   "execution_count": 7,
   "metadata": {},
   "outputs": [
    {
     "data": {
      "image/png": "[encoded data removed]",
      "text/plain": [
       "<matplotlib.figure.Figure at 0x107940a20>"
      ]
     },
     "metadata": {},
     "output_type": "display_data"
    }
   ],
   "source": [
    "plt.figure()\n",
    "plt.scatter(train_df[\"Age_08_04\"], train_df[\"Price\"])\n",
    "plt.show()"
   ]
  },
  {
   "cell_type": "code",
   "execution_count": 8,
   "metadata": {},
   "outputs": [
    {
     "name": "stdout",
     "output_type": "stream",
     "text": [
      "7\n"
     ]
    },
    {
     "data": {
      "text/plain": [
       "{1998: Int64Index([ 739,  740,  741,  742,  743,  744,  745,  746,  747,  748,\n",
       "             ...\n",
       "             1009, 1010, 1011, 1012, 1013, 1014, 1015, 1016, 1017, 1018],\n",
       "            dtype='int64', length=280),\n",
       " 1999: Int64Index([423, 424, 425, 426, 427, 428, 429, 430, 431, 432,\n",
       "             ...\n",
       "             729, 730, 731, 732, 733, 734, 735, 736, 737, 738],\n",
       "            dtype='int64', length=316),\n",
       " 2000: Int64Index([268, 269, 270, 271, 272, 273, 274, 275, 276, 277,\n",
       "             ...\n",
       "             413, 414, 415, 416, 417, 418, 419, 420, 421, 422],\n",
       "            dtype='int64', length=155),\n",
       " 2001: Int64Index([134, 135, 136, 137, 138, 139, 140, 141, 142, 143,\n",
       "             ...\n",
       "             258, 259, 260, 261, 262, 263, 264, 265, 266, 267],\n",
       "            dtype='int64', length=134),\n",
       " 2002: Int64Index([ 0,  1,  2,  3,  4,  5,  6,  7,  8,  9, 10, 11, 12, 13, 14, 15, 16,\n",
       "             17, 18, 19, 20, 21, 22, 23, 24, 25, 26, 27, 28, 29, 30, 31, 32, 33,\n",
       "             34, 35, 36, 37, 38, 39, 40, 41, 42, 43, 44, 45, 46, 47, 48, 49, 50,\n",
       "             51, 52, 53, 54, 55, 56, 57, 58],\n",
       "            dtype='int64'),\n",
       " 2003: Int64Index([ 59,  60,  61,  62,  63,  64,  65,  66,  67,  68,  69,  70,  71,\n",
       "              72,  73,  74,  75,  76,  84,  85,  86,  87,  88,  89,  90,  91,\n",
       "              92,  93,  94,  95,  96,  97,  98,  99, 100, 101, 102, 103, 104,\n",
       "             105, 106, 107, 108, 109, 110, 111, 112, 113, 114, 115, 116, 117,\n",
       "             118, 119, 120, 121, 122, 123, 124, 125],\n",
       "            dtype='int64'),\n",
       " 2004: Int64Index([77, 78, 79, 80, 81, 82, 83, 126, 127, 128, 129, 130, 131, 132,\n",
       "             133],\n",
       "            dtype='int64')}"
      ]
     },
     "execution_count": 8,
     "metadata": {},
     "output_type": "execute_result"
    }
   ],
   "source": [
    "#그룹핑\n",
    "year_group = train_df.groupby('Mfg_Year')\n",
    "print(len(year_group.groups))\n",
    "year_group.groups\n"
   ]
  },
  {
   "cell_type": "code",
   "execution_count": 9,
   "metadata": {},
   "outputs": [
    {
     "name": "stdout",
     "output_type": "stream",
     "text": [
      "Mfg_Year\n",
      "1998     7912.639286\n",
      "1999     9327.816456\n",
      "2000    10788.380645\n",
      "2001    12342.537313\n",
      "2002    16990.491525\n",
      "2003    18594.750000\n",
      "2004    22335.666667\n",
      "Name: Price, dtype: float64\n",
      "----------------------------\n",
      "Mfg_Month\n",
      "1     11012.566667\n",
      "2     11488.404255\n",
      "3     10217.340000\n",
      "4     10144.714286\n",
      "5     11203.181818\n",
      "6     10652.573034\n",
      "7     11119.892473\n",
      "8     11011.179775\n",
      "9      9885.306122\n",
      "10    10638.539474\n",
      "11    10128.488372\n",
      "12    10398.255814\n",
      "Name: Price, dtype: float64\n",
      "----------------------------\n",
      "Color\n",
      "Beige      8933.333333\n",
      "Black     11349.431818\n",
      "Blue      10800.291262\n",
      "Green      9980.060403\n",
      "Grey      11774.299517\n",
      "Red        9886.323671\n",
      "Silver    11240.377778\n",
      "Violet     9950.000000\n",
      "White      7830.714286\n",
      "Yellow    12922.500000\n",
      "Name: Price, dtype: float64\n",
      "----------------------------\n",
      "CC\n",
      "1300      8459.435028\n",
      "1332      8800.000000\n",
      "1398      8950.000000\n",
      "1400     12905.210526\n",
      "1587      8450.000000\n",
      "1598     19850.000000\n",
      "1600     10807.299342\n",
      "1800     17944.444444\n",
      "1900     10629.318182\n",
      "1995     19950.000000\n",
      "2000     11042.469136\n",
      "16000    18950.000000\n",
      "Name: Price, dtype: float64\n",
      "----------------------------\n",
      "Fuel_Type\n",
      "CNG       10138.888889\n",
      "Diesel    10915.424528\n",
      "Petrol    10723.564159\n",
      "Name: Price, dtype: float64\n"
     ]
    }
   ],
   "source": [
    "#그룹별 가격 평균\n",
    "year_group.size()\n",
    "\n",
    "print(train_df.groupby('Mfg_Year')[\"Price\"].mean())\n",
    "print('----------------------------')\n",
    "print(train_df.groupby('Mfg_Month')[\"Price\"].mean())\n",
    "print('----------------------------')\n",
    "print(train_df.groupby('Color')[\"Price\"].mean())\n",
    "print('----------------------------')\n",
    "print(train_df.groupby('CC')[\"Price\"].mean())\n",
    "print('----------------------------')\n",
    "print(train_df.groupby('Fuel_Type')[\"Price\"].mean())\n",
    "\n",
    "\n",
    "#plt.bar(train_df.groupby('Mfg_Year')[\"Price\"].mean())\n",
    "#plt.show()"
   ]
  },
  {
   "cell_type": "code",
   "execution_count": 10,
   "metadata": {},
   "outputs": [
    {
     "name": "stdout",
     "output_type": "stream",
     "text": [
      "Mfg_Year  Mfg_Month\n",
      "1998      1             7898.500000\n",
      "          2             8072.954545\n",
      "          3             7736.363636\n",
      "          4             8180.625000\n",
      "          5             7895.625000\n",
      "          6             7877.592593\n",
      "          7             7722.631579\n",
      "          8             7971.153846\n",
      "          9             7434.615385\n",
      "          10            8016.416667\n",
      "          11            8084.230769\n",
      "          12            8003.333333\n",
      "1999      1             9041.923077\n",
      "          2             9333.478261\n",
      "          3             9214.250000\n",
      "          4             9182.551020\n",
      "          5             9028.571429\n",
      "          6             9456.304348\n",
      "          7             9551.166667\n",
      "          8             9553.392857\n",
      "          9             9933.333333\n",
      "          10            9170.952381\n",
      "          11            9320.588235\n",
      "          12            9824.642857\n",
      "2000      1            10582.142857\n",
      "          2            10180.312500\n",
      "          3            10636.538462\n",
      "          4             9936.250000\n",
      "          5            11023.000000\n",
      "          6            10942.785714\n",
      "                           ...     \n",
      "2001      11           12082.500000\n",
      "          12           13028.500000\n",
      "2002      1            14500.000000\n",
      "          2            19237.500000\n",
      "          3            16883.222222\n",
      "          4            15636.250000\n",
      "          5            17681.250000\n",
      "          6            17771.666667\n",
      "          7            16680.000000\n",
      "          8            17437.500000\n",
      "          9            17950.000000\n",
      "          10           15620.000000\n",
      "          11           15412.500000\n",
      "2003      1            17686.875000\n",
      "          2            17962.500000\n",
      "          3            17450.000000\n",
      "          4            18850.000000\n",
      "          5            20237.500000\n",
      "          6            18950.000000\n",
      "          7            19492.857143\n",
      "          8            19041.666667\n",
      "          9            20500.000000\n",
      "          10           19470.000000\n",
      "          11           18450.000000\n",
      "          12           18697.500000\n",
      "2004      1            22660.000000\n",
      "          2            20266.666667\n",
      "          5            31000.000000\n",
      "          7            21500.000000\n",
      "          8            17795.000000\n",
      "Name: Price, Length: 76, dtype: float64\n"
     ]
    }
   ],
   "source": [
    "#년도별 월별 가격 평균\n",
    "print(train_df.groupby(['Mfg_Year', 'Mfg_Month'])[\"Price\"].mean())"
   ]
  },
  {
   "cell_type": "code",
   "execution_count": 11,
   "metadata": {},
   "outputs": [
    {
     "data": {
      "image/png": "[encoded data removed]",
      "text/plain": [
       "<matplotlib.figure.Figure at 0x1079d5828>"
      ]
     },
     "metadata": {},
     "output_type": "display_data"
    }
   ],
   "source": [
    "#박스플롯\n",
    "plt.figure()\n",
    "plt.subplot(231)\n",
    "plt.boxplot((train_df[\"Age_08_04\"],train_df[\"Mfg_Year\"],train_df[\"KM\"], train_df[\"HP\"],train_df[\"CC\"]))\n",
    "plt.show()"
   ]
  },
  {
   "cell_type": "code",
   "execution_count": 12,
   "metadata": {},
   "outputs": [
    {
     "data": {
      "image/png": "[encoded data removed]",
      "text/plain": [
       "<matplotlib.figure.Figure at 0x107e70a90>"
      ]
     },
     "metadata": {},
     "output_type": "display_data"
    }
   ],
   "source": [
    "#박스플롯\n",
    "plt.subplot(191)\n",
    "plt.boxplot((train_df[\"Age_08_04\"]))\n",
    "plt.subplot(193)\n",
    "plt.boxplot((train_df[\"Mfg_Year\"]))\n",
    "plt.subplot(195)\n",
    "plt.boxplot((train_df[\"KM\"]))\n",
    "plt.subplot(197)\n",
    "plt.boxplot((train_df[\"HP\"]))\n",
    "plt.subplot(199)\n",
    "plt.boxplot((train_df[\"CC\"]))\n",
    "plt.show()"
   ]
  },
  {
   "cell_type": "code",
   "execution_count": 13,
   "metadata": {
    "collapsed": true
   },
   "outputs": [],
   "source": [
    "#연속형 데이터 범주형으로 나누기\n",
    "train_df['range_age'] = np.where(train_df['Age_08_04'] > 70, '70',\\\n",
    "                                 np.where(train_df['Age_08_04'] > 60, '60', \\\n",
    "                                          np.where(train_df['Age_08_04'] > 50, '50', \\\n",
    "                                                   np.where(train_df['Age_08_04'] > 40, '40', \\\n",
    "                                                            np.where(train_df['Age_08_04'] > 30, '30', \\\n",
    "                                                                     np.where(train_df['Age_08_04'] > 20, '20', \\\n",
    "                                                                              np.where(train_df['Age_08_04'] > 10, '10', '1')))))))\n",
    "train_df2 = train_df.copy()\n",
    "train_df2_1 = train_df2[train_df2['range_age'] == '1']\n",
    "train_df2_10 = train_df2[train_df2['range_age'] == '10']\n",
    "train_df2_20 = train_df2[train_df2['range_age'] == '20']\n",
    "train_df2_30 = train_df2[train_df2['range_age'] == '30']\n",
    "train_df2_40 = train_df2[train_df2['range_age'] == '40']\n",
    "train_df2_50 = train_df2[train_df2['range_age'] == '50']\n",
    "train_df2_60 = train_df2[train_df2['range_age'] == '60']\n",
    "train_df2_70 = train_df2[train_df2['range_age'] == '70']\n",
    "\n",
    "\n"
   ]
  },
  {
   "cell_type": "code",
   "execution_count": 14,
   "metadata": {},
   "outputs": [
    {
     "data": {
      "image/png": "[encoded data removed]",
      "text/plain": [
       "<matplotlib.figure.Figure at 0x107f5e5f8>"
      ]
     },
     "metadata": {},
     "output_type": "display_data"
    }
   ],
   "source": [
    "plt.subplot(3, 3, 1)\n",
    "plt.scatter(train_df2_1[\"Mfg_Month\"], train_df2_1[\"Price\"])\n",
    "plt.subplot(3, 3, 2)\n",
    "plt.scatter(train_df2_10[\"Mfg_Month\"], train_df2_10[\"Price\"])\n",
    "plt.subplot(3, 3, 3)\n",
    "plt.scatter(train_df2_20[\"Mfg_Month\"], train_df2_20[\"Price\"])\n",
    "plt.subplot(3, 3, 4)\n",
    "plt.scatter(train_df2_30[\"Mfg_Month\"], train_df2_30[\"Price\"])\n",
    "plt.subplot(3, 3, 5)\n",
    "plt.scatter(train_df2_40[\"Mfg_Month\"], train_df2_40[\"Price\"])\n",
    "plt.subplot(3, 3, 6)\n",
    "plt.scatter(train_df2_50[\"Mfg_Month\"], train_df2_50[\"Price\"])\n",
    "plt.subplot(3, 3, 7)\n",
    "plt.scatter(train_df2_60[\"Mfg_Month\"], train_df2_60[\"Price\"])\n",
    "plt.subplot(3, 3, 8)\n",
    "plt.scatter(train_df2_70[\"Mfg_Month\"], train_df2_70[\"Price\"])\n",
    "\n",
    "plt.show()"
   ]
  },
  {
   "cell_type": "code",
   "execution_count": 15,
   "metadata": {},
   "outputs": [
    {
     "data": {
      "image/png": "[encoded data removed]",
      "text/plain": [
       "<matplotlib.figure.Figure at 0x108e3b0b8>"
      ]
     },
     "metadata": {},
     "output_type": "display_data"
    }
   ],
   "source": [
    "plt.subplot(3, 3, 1)\n",
    "plt.scatter(train_df2_1[\"Mfg_Year\"], train_df2_1[\"Price\"])\n",
    "plt.subplot(3, 3, 2)\n",
    "plt.scatter(train_df2_10[\"Mfg_Year\"], train_df2_10[\"Price\"])\n",
    "plt.subplot(3, 3, 3)\n",
    "plt.scatter(train_df2_20[\"Mfg_Year\"], train_df2_20[\"Price\"])\n",
    "plt.subplot(3, 3, 4)\n",
    "plt.scatter(train_df2_30[\"Mfg_Year\"], train_df2_30[\"Price\"])\n",
    "plt.subplot(3, 3, 5)\n",
    "plt.scatter(train_df2_40[\"Mfg_Year\"], train_df2_40[\"Price\"])\n",
    "plt.subplot(3, 3, 6)\n",
    "plt.scatter(train_df2_50[\"Mfg_Year\"], train_df2_50[\"Price\"])\n",
    "plt.subplot(3, 3, 7)\n",
    "plt.scatter(train_df2_60[\"Mfg_Year\"], train_df2_60[\"Price\"])\n",
    "plt.subplot(3, 3, 8)\n",
    "plt.scatter(train_df2_70[\"Mfg_Year\"], train_df2_70[\"Price\"])\n",
    "\n",
    "plt.show()"
   ]
  },
  {
   "cell_type": "code",
   "execution_count": 16,
   "metadata": {},
   "outputs": [
    {
     "data": {
      "image/png": "[encoded data removed]",
      "text/plain": [
       "<matplotlib.figure.Figure at 0x108e06588>"
      ]
     },
     "metadata": {},
     "output_type": "display_data"
    }
   ],
   "source": [
    "plt.subplot(2, 4, 1)\n",
    "plt.scatter(train_df2_1[\"KM\"], train_df2_1[\"Price\"])\n",
    "plt.subplot(2, 4, 2)\n",
    "plt.scatter(train_df2_10[\"KM\"], train_df2_10[\"Price\"])\n",
    "plt.subplot(2, 4, 3)\n",
    "plt.scatter(train_df2_20[\"KM\"], train_df2_20[\"Price\"])\n",
    "plt.subplot(2, 4, 4)\n",
    "plt.scatter(train_df2_30[\"KM\"], train_df2_30[\"Price\"])\n",
    "plt.subplot(2, 4, 5)\n",
    "plt.scatter(train_df2_40[\"KM\"], train_df2_40[\"Price\"])\n",
    "plt.subplot(2, 4, 6)\n",
    "plt.scatter(train_df2_50[\"KM\"], train_df2_50[\"Price\"])\n",
    "plt.subplot(2, 4, 7)\n",
    "plt.scatter(train_df2_60[\"KM\"], train_df2_60[\"Price\"])\n",
    "plt.subplot(2, 4, 8)\n",
    "plt.scatter(train_df2_70[\"KM\"], train_df2_70[\"Price\"])\n",
    "\n",
    "plt.show()"
   ]
  },
  {
   "cell_type": "code",
   "execution_count": 17,
   "metadata": {},
   "outputs": [
    {
     "ename": "KeyError",
     "evalue": "0",
     "output_type": "error",
     "traceback": [
      "\u001b[0;31m---------------------------------------------------------------------------\u001b[0m",
      "\u001b[0;31mKeyError\u001b[0m                                  Traceback (most recent call last)",
      "\u001b[0;32m<ipython-input-17-cfc025bbc994>\u001b[0m in \u001b[0;36m<module>\u001b[0;34m()\u001b[0m\n\u001b[1;32m      1\u001b[0m \u001b[0;31m#error\u001b[0m\u001b[0;34m\u001b[0m\u001b[0;34m\u001b[0m\u001b[0m\n\u001b[1;32m      2\u001b[0m \u001b[0mplt\u001b[0m\u001b[0;34m.\u001b[0m\u001b[0msubplot\u001b[0m\u001b[0;34m(\u001b[0m\u001b[0;36m3\u001b[0m\u001b[0;34m,\u001b[0m \u001b[0;36m3\u001b[0m\u001b[0;34m,\u001b[0m \u001b[0;36m1\u001b[0m\u001b[0;34m)\u001b[0m\u001b[0;34m\u001b[0m\u001b[0m\n\u001b[0;32m----> 3\u001b[0;31m \u001b[0mplt\u001b[0m\u001b[0;34m.\u001b[0m\u001b[0mboxplot\u001b[0m\u001b[0;34m(\u001b[0m\u001b[0mtrain_df2_1\u001b[0m\u001b[0;34m[\u001b[0m\u001b[0;34m\"Fuel_Type\"\u001b[0m\u001b[0;34m]\u001b[0m\u001b[0;34m,\u001b[0m \u001b[0mtrain_df2_1\u001b[0m\u001b[0;34m[\u001b[0m\u001b[0;34m\"Price\"\u001b[0m\u001b[0;34m]\u001b[0m\u001b[0;34m)\u001b[0m\u001b[0;34m\u001b[0m\u001b[0m\n\u001b[0m\u001b[1;32m      4\u001b[0m \u001b[0mplt\u001b[0m\u001b[0;34m.\u001b[0m\u001b[0msubplot\u001b[0m\u001b[0;34m(\u001b[0m\u001b[0;36m3\u001b[0m\u001b[0;34m,\u001b[0m \u001b[0;36m3\u001b[0m\u001b[0;34m,\u001b[0m \u001b[0;36m2\u001b[0m\u001b[0;34m)\u001b[0m\u001b[0;34m\u001b[0m\u001b[0m\n\u001b[1;32m      5\u001b[0m \u001b[0mplt\u001b[0m\u001b[0;34m.\u001b[0m\u001b[0mboxplot\u001b[0m\u001b[0;34m(\u001b[0m\u001b[0mtrain_df2_10\u001b[0m\u001b[0;34m[\u001b[0m\u001b[0;34m\"Fuel_Type\"\u001b[0m\u001b[0;34m]\u001b[0m\u001b[0;34m,\u001b[0m \u001b[0mtrain_df2_10\u001b[0m\u001b[0;34m[\u001b[0m\u001b[0;34m\"Price\"\u001b[0m\u001b[0;34m]\u001b[0m\u001b[0;34m)\u001b[0m\u001b[0;34m\u001b[0m\u001b[0m\n",
      "\u001b[0;32m/Library/Frameworks/Python.framework/Versions/3.5/lib/python3.5/site-packages/matplotlib/pyplot.py\u001b[0m in \u001b[0;36mboxplot\u001b[0;34m(x, notch, sym, vert, whis, positions, widths, patch_artist, bootstrap, usermedians, conf_intervals, meanline, showmeans, showcaps, showbox, showfliers, boxprops, labels, flierprops, medianprops, meanprops, capprops, whiskerprops, manage_xticks, autorange, zorder, hold, data)\u001b[0m\n\u001b[1;32m   2783\u001b[0m                          \u001b[0mwhiskerprops\u001b[0m\u001b[0;34m=\u001b[0m\u001b[0mwhiskerprops\u001b[0m\u001b[0;34m,\u001b[0m\u001b[0;34m\u001b[0m\u001b[0m\n\u001b[1;32m   2784\u001b[0m                          \u001b[0mmanage_xticks\u001b[0m\u001b[0;34m=\u001b[0m\u001b[0mmanage_xticks\u001b[0m\u001b[0;34m,\u001b[0m \u001b[0mautorange\u001b[0m\u001b[0;34m=\u001b[0m\u001b[0mautorange\u001b[0m\u001b[0;34m,\u001b[0m\u001b[0;34m\u001b[0m\u001b[0m\n\u001b[0;32m-> 2785\u001b[0;31m                          zorder=zorder, data=data)\n\u001b[0m\u001b[1;32m   2786\u001b[0m     \u001b[0;32mfinally\u001b[0m\u001b[0;34m:\u001b[0m\u001b[0;34m\u001b[0m\u001b[0m\n\u001b[1;32m   2787\u001b[0m         \u001b[0max\u001b[0m\u001b[0;34m.\u001b[0m\u001b[0m_hold\u001b[0m \u001b[0;34m=\u001b[0m \u001b[0mwashold\u001b[0m\u001b[0;34m\u001b[0m\u001b[0m\n",
      "\u001b[0;32m/Library/Frameworks/Python.framework/Versions/3.5/lib/python3.5/site-packages/matplotlib/__init__.py\u001b[0m in \u001b[0;36minner\u001b[0;34m(ax, *args, **kwargs)\u001b[0m\n\u001b[1;32m   1896\u001b[0m                     warnings.warn(msg % (label_namer, func.__name__),\n\u001b[1;32m   1897\u001b[0m                                   RuntimeWarning, stacklevel=2)\n\u001b[0;32m-> 1898\u001b[0;31m             \u001b[0;32mreturn\u001b[0m \u001b[0mfunc\u001b[0m\u001b[0;34m(\u001b[0m\u001b[0max\u001b[0m\u001b[0;34m,\u001b[0m \u001b[0;34m*\u001b[0m\u001b[0margs\u001b[0m\u001b[0;34m,\u001b[0m \u001b[0;34m**\u001b[0m\u001b[0mkwargs\u001b[0m\u001b[0;34m)\u001b[0m\u001b[0;34m\u001b[0m\u001b[0m\n\u001b[0m\u001b[1;32m   1899\u001b[0m         \u001b[0mpre_doc\u001b[0m \u001b[0;34m=\u001b[0m \u001b[0minner\u001b[0m\u001b[0;34m.\u001b[0m\u001b[0m__doc__\u001b[0m\u001b[0;34m\u001b[0m\u001b[0m\n\u001b[1;32m   1900\u001b[0m         \u001b[0;32mif\u001b[0m \u001b[0mpre_doc\u001b[0m \u001b[0;32mis\u001b[0m \u001b[0;32mNone\u001b[0m\u001b[0;34m:\u001b[0m\u001b[0;34m\u001b[0m\u001b[0m\n",
      "\u001b[0;32m/Library/Frameworks/Python.framework/Versions/3.5/lib/python3.5/site-packages/matplotlib/axes/_axes.py\u001b[0m in \u001b[0;36mboxplot\u001b[0;34m(self, x, notch, sym, vert, whis, positions, widths, patch_artist, bootstrap, usermedians, conf_intervals, meanline, showmeans, showcaps, showbox, showfliers, boxprops, labels, flierprops, medianprops, meanprops, capprops, whiskerprops, manage_xticks, autorange, zorder)\u001b[0m\n\u001b[1;32m   3272\u001b[0m             \u001b[0mbootstrap\u001b[0m \u001b[0;34m=\u001b[0m \u001b[0mrcParams\u001b[0m\u001b[0;34m[\u001b[0m\u001b[0;34m'boxplot.bootstrap'\u001b[0m\u001b[0;34m]\u001b[0m\u001b[0;34m\u001b[0m\u001b[0m\n\u001b[1;32m   3273\u001b[0m         bxpstats = cbook.boxplot_stats(x, whis=whis, bootstrap=bootstrap,\n\u001b[0;32m-> 3274\u001b[0;31m                                        labels=labels, autorange=autorange)\n\u001b[0m\u001b[1;32m   3275\u001b[0m         \u001b[0;32mif\u001b[0m \u001b[0mnotch\u001b[0m \u001b[0;32mis\u001b[0m \u001b[0;32mNone\u001b[0m\u001b[0;34m:\u001b[0m\u001b[0;34m\u001b[0m\u001b[0m\n\u001b[1;32m   3276\u001b[0m             \u001b[0mnotch\u001b[0m \u001b[0;34m=\u001b[0m \u001b[0mrcParams\u001b[0m\u001b[0;34m[\u001b[0m\u001b[0;34m'boxplot.notch'\u001b[0m\u001b[0;34m]\u001b[0m\u001b[0;34m\u001b[0m\u001b[0m\n",
      "\u001b[0;32m/Library/Frameworks/Python.framework/Versions/3.5/lib/python3.5/site-packages/matplotlib/cbook.py\u001b[0m in \u001b[0;36mboxplot_stats\u001b[0;34m(X, whis, bootstrap, labels, autorange)\u001b[0m\n\u001b[1;32m   1992\u001b[0m \u001b[0;34m\u001b[0m\u001b[0m\n\u001b[1;32m   1993\u001b[0m     \u001b[0;31m# convert X to a list of lists\u001b[0m\u001b[0;34m\u001b[0m\u001b[0;34m\u001b[0m\u001b[0m\n\u001b[0;32m-> 1994\u001b[0;31m     \u001b[0mX\u001b[0m \u001b[0;34m=\u001b[0m \u001b[0m_reshape_2D\u001b[0m\u001b[0;34m(\u001b[0m\u001b[0mX\u001b[0m\u001b[0;34m)\u001b[0m\u001b[0;34m\u001b[0m\u001b[0m\n\u001b[0m\u001b[1;32m   1995\u001b[0m \u001b[0;34m\u001b[0m\u001b[0m\n\u001b[1;32m   1996\u001b[0m     \u001b[0mncols\u001b[0m \u001b[0;34m=\u001b[0m \u001b[0mlen\u001b[0m\u001b[0;34m(\u001b[0m\u001b[0mX\u001b[0m\u001b[0;34m)\u001b[0m\u001b[0;34m\u001b[0m\u001b[0m\n",
      "\u001b[0;32m/Library/Frameworks/Python.framework/Versions/3.5/lib/python3.5/site-packages/matplotlib/cbook.py\u001b[0m in \u001b[0;36m_reshape_2D\u001b[0;34m(X)\u001b[0m\n\u001b[1;32m   2240\u001b[0m         \u001b[0;31m# one item\u001b[0m\u001b[0;34m\u001b[0m\u001b[0;34m\u001b[0m\u001b[0m\n\u001b[1;32m   2241\u001b[0m         \u001b[0;32mif\u001b[0m \u001b[0mlen\u001b[0m\u001b[0;34m(\u001b[0m\u001b[0mX\u001b[0m\u001b[0;34m.\u001b[0m\u001b[0mshape\u001b[0m\u001b[0;34m)\u001b[0m \u001b[0;34m==\u001b[0m \u001b[0;36m1\u001b[0m\u001b[0;34m:\u001b[0m\u001b[0;34m\u001b[0m\u001b[0m\n\u001b[0;32m-> 2242\u001b[0;31m             \u001b[0;32mif\u001b[0m \u001b[0mhasattr\u001b[0m\u001b[0;34m(\u001b[0m\u001b[0mX\u001b[0m\u001b[0;34m[\u001b[0m\u001b[0;36m0\u001b[0m\u001b[0;34m]\u001b[0m\u001b[0;34m,\u001b[0m \u001b[0;34m'shape'\u001b[0m\u001b[0;34m)\u001b[0m\u001b[0;34m:\u001b[0m\u001b[0;34m\u001b[0m\u001b[0m\n\u001b[0m\u001b[1;32m   2243\u001b[0m                 \u001b[0mX\u001b[0m \u001b[0;34m=\u001b[0m \u001b[0mlist\u001b[0m\u001b[0;34m(\u001b[0m\u001b[0mX\u001b[0m\u001b[0;34m)\u001b[0m\u001b[0;34m\u001b[0m\u001b[0m\n\u001b[1;32m   2244\u001b[0m             \u001b[0;32melse\u001b[0m\u001b[0;34m:\u001b[0m\u001b[0;34m\u001b[0m\u001b[0m\n",
      "\u001b[0;32m/Library/Frameworks/Python.framework/Versions/3.5/lib/python3.5/site-packages/pandas/core/series.py\u001b[0m in \u001b[0;36m__getitem__\u001b[0;34m(self, key)\u001b[0m\n\u001b[1;32m    599\u001b[0m         \u001b[0mkey\u001b[0m \u001b[0;34m=\u001b[0m \u001b[0mcom\u001b[0m\u001b[0;34m.\u001b[0m\u001b[0m_apply_if_callable\u001b[0m\u001b[0;34m(\u001b[0m\u001b[0mkey\u001b[0m\u001b[0;34m,\u001b[0m \u001b[0mself\u001b[0m\u001b[0;34m)\u001b[0m\u001b[0;34m\u001b[0m\u001b[0m\n\u001b[1;32m    600\u001b[0m         \u001b[0;32mtry\u001b[0m\u001b[0;34m:\u001b[0m\u001b[0;34m\u001b[0m\u001b[0m\n\u001b[0;32m--> 601\u001b[0;31m             \u001b[0mresult\u001b[0m \u001b[0;34m=\u001b[0m \u001b[0mself\u001b[0m\u001b[0;34m.\u001b[0m\u001b[0mindex\u001b[0m\u001b[0;34m.\u001b[0m\u001b[0mget_value\u001b[0m\u001b[0;34m(\u001b[0m\u001b[0mself\u001b[0m\u001b[0;34m,\u001b[0m \u001b[0mkey\u001b[0m\u001b[0;34m)\u001b[0m\u001b[0;34m\u001b[0m\u001b[0m\n\u001b[0m\u001b[1;32m    602\u001b[0m \u001b[0;34m\u001b[0m\u001b[0m\n\u001b[1;32m    603\u001b[0m             \u001b[0;32mif\u001b[0m \u001b[0;32mnot\u001b[0m \u001b[0mis_scalar\u001b[0m\u001b[0;34m(\u001b[0m\u001b[0mresult\u001b[0m\u001b[0;34m)\u001b[0m\u001b[0;34m:\u001b[0m\u001b[0;34m\u001b[0m\u001b[0m\n",
      "\u001b[0;32m/Library/Frameworks/Python.framework/Versions/3.5/lib/python3.5/site-packages/pandas/core/indexes/base.py\u001b[0m in \u001b[0;36mget_value\u001b[0;34m(self, series, key)\u001b[0m\n\u001b[1;32m   2475\u001b[0m         \u001b[0;32mtry\u001b[0m\u001b[0;34m:\u001b[0m\u001b[0;34m\u001b[0m\u001b[0m\n\u001b[1;32m   2476\u001b[0m             return self._engine.get_value(s, k,\n\u001b[0;32m-> 2477\u001b[0;31m                                           tz=getattr(series.dtype, 'tz', None))\n\u001b[0m\u001b[1;32m   2478\u001b[0m         \u001b[0;32mexcept\u001b[0m \u001b[0mKeyError\u001b[0m \u001b[0;32mas\u001b[0m \u001b[0me1\u001b[0m\u001b[0;34m:\u001b[0m\u001b[0;34m\u001b[0m\u001b[0m\n\u001b[1;32m   2479\u001b[0m             \u001b[0;32mif\u001b[0m \u001b[0mlen\u001b[0m\u001b[0;34m(\u001b[0m\u001b[0mself\u001b[0m\u001b[0;34m)\u001b[0m \u001b[0;34m>\u001b[0m \u001b[0;36m0\u001b[0m \u001b[0;32mand\u001b[0m \u001b[0mself\u001b[0m\u001b[0;34m.\u001b[0m\u001b[0minferred_type\u001b[0m \u001b[0;32min\u001b[0m \u001b[0;34m[\u001b[0m\u001b[0;34m'integer'\u001b[0m\u001b[0;34m,\u001b[0m \u001b[0;34m'boolean'\u001b[0m\u001b[0;34m]\u001b[0m\u001b[0;34m:\u001b[0m\u001b[0;34m\u001b[0m\u001b[0m\n",
      "\u001b[0;32mpandas/_libs/index.pyx\u001b[0m in \u001b[0;36mpandas._libs.index.IndexEngine.get_value (pandas/_libs/index.c:4404)\u001b[0;34m()\u001b[0m\n",
      "\u001b[0;32mpandas/_libs/index.pyx\u001b[0m in \u001b[0;36mpandas._libs.index.IndexEngine.get_value (pandas/_libs/index.c:4087)\u001b[0;34m()\u001b[0m\n",
      "\u001b[0;32mpandas/_libs/index.pyx\u001b[0m in \u001b[0;36mpandas._libs.index.IndexEngine.get_loc (pandas/_libs/index.c:5126)\u001b[0;34m()\u001b[0m\n",
      "\u001b[0;32mpandas/_libs/hashtable_class_helper.pxi\u001b[0m in \u001b[0;36mpandas._libs.hashtable.Int64HashTable.get_item (pandas/_libs/hashtable.c:14031)\u001b[0;34m()\u001b[0m\n",
      "\u001b[0;32mpandas/_libs/hashtable_class_helper.pxi\u001b[0m in \u001b[0;36mpandas._libs.hashtable.Int64HashTable.get_item (pandas/_libs/hashtable.c:13975)\u001b[0;34m()\u001b[0m\n",
      "\u001b[0;31mKeyError\u001b[0m: 0"
     ]
    },
    {
     "data": {
      "image/png": "[encoded data removed]",
      "text/plain": [
       "<matplotlib.figure.Figure at 0x108e06358>"
      ]
     },
     "metadata": {},
     "output_type": "display_data"
    }
   ],
   "source": [
    "#error\n",
    "plt.subplot(3, 3, 1)\n",
    "plt.boxplot(train_df2_1[\"Fuel_Type\"], train_df2_1[\"Price\"])\n",
    "plt.subplot(3, 3, 2)\n",
    "plt.boxplot(train_df2_10[\"Fuel_Type\"], train_df2_10[\"Price\"])\n",
    "plt.subplot(3, 3, 3)\n",
    "plt.boxplot(train_df2_20[\"Fuel_Type\"], train_df2_20[\"Price\"])\n",
    "plt.subplot(3, 3, 4)\n",
    "plt.boxplot(train_df2_30[\"Fuel_Type\"], train_df2_30[\"Price\"])\n",
    "plt.subplot(3, 3, 5)\n",
    "plt.boxplot(train_df2_40[\"Fuel_Type\"], train_df2_40[\"Price\"])\n",
    "plt.subplot(3, 3, 6)\n",
    "plt.boxplot(train_df2_50[\"Fuel_Type\"], train_df2_50[\"Price\"])\n",
    "plt.subplot(3, 3, 7)\n",
    "plt.boxplot(train_df2_60[\"Fuel_Type\"], train_df2_60[\"Price\"])\n",
    "plt.subplot(3, 3, 8)\n",
    "plt.boxplot(train_df2_70[\"Fuel_Type\"], train_df2_70[\"Price\"])\n",
    "\n",
    "plt.show()"
   ]
  },
  {
   "cell_type": "code",
   "execution_count": null,
   "metadata": {
    "collapsed": true
   },
   "outputs": [],
   "source": []
  },
  {
   "cell_type": "code",
   "execution_count": null,
   "metadata": {
    "collapsed": true
   },
   "outputs": [],
   "source": []
  }
 ],
 "metadata": {
  "kernelspec": {
   "display_name": "Python 3",
   "language": "python",
   "name": "python3"
  },
  "language_info": {
   "codemirror_mode": {
    "name": "ipython",
    "version": 3
   },
   "file_extension": ".py",
   "mimetype": "text/x-python",
   "name": "python",
   "nbconvert_exporter": "python",
   "pygments_lexer": "ipython3",
   "version": "3.5.1"
  }
 },
 "nbformat": 4,
 "nbformat_minor": 2
}
